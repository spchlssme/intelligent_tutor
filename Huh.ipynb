{
 "cells": [
  {
   "cell_type": "markdown",
   "metadata": {},
   "source": [
    "so... this is a personal tutor.\n",
    "currently there are multiple reward designs for teh teacher and student  currently... spelling is important  \n",
    "currently lots of room for improvement\n",
    "... worst README ever..."
   ]
  },
  {
   "cell_type": "code",
   "execution_count": 1,
   "metadata": {
    "collapsed": true
   },
   "outputs": [],
   "source": [
    "###########################################\n",
    "# Suppress matplotlib user warnings\n",
    "# Necessary for newer version of matplotlib\n",
    "import random\n",
    "#import warnings\n",
    "#warnings.filterwarnings(\"ignore\", \n",
    "#                        category = UserWarning, module = \"matplotlib\")\n",
    "\n",
    "#import matplotlib.pyplot as plt\n",
    "import numpy as np\n",
    "import pandas as pd\n",
    "from textblob import TextBlob\n",
    "import re\n",
    "\n",
    "# Pretty display for notebooks\n",
    "%matplotlib inline"
   ]
  },
  {
   "cell_type": "markdown",
   "metadata": {},
   "source": [
    "# Generate Trivia"
   ]
  },
  {
   "cell_type": "code",
   "execution_count": 2,
   "metadata": {
    "collapsed": true
   },
   "outputs": [],
   "source": [
    "def generate_trivia_sentences(clean_data):\n",
    "    sentences = clean_data.sentences\n",
    "    del sentences[0]\n",
    "    trivia_sentences = []\n",
    "    for sentence in sentences:\n",
    "        trivia = evaluate_sentence(sentence)\n",
    "        if trivia:\n",
    "            trivia_sentences.append(trivia)\n",
    "\n",
    "    trivia_sentences = generate_trivia_choices(trivia_sentences)   \n",
    "    \n",
    "    return trivia_sentences\n",
    "\n",
    "def generate_trivia_choices(trivia_sentences):\n",
    "    trivia_sentences = pd.DataFrame(trivia_sentences)\n",
    "    trivia_sentences['choices'] = \"\"\n",
    "    choices = range(len(trivia_sentences))\n",
    "    \n",
    "    for c in choices:\n",
    "        answer = [trivia_sentences.iat[c,0]]\n",
    "        wrongs = random.sample(choices,4)\n",
    "        for w in wrongs:\n",
    "            answer.append(trivia_sentences.iat[w,0])\n",
    "        random.shuffle(answer)\n",
    "        trivia_sentences.at[w,'choices'] = answer\n",
    "        \n",
    "    trivia_sentences = trivia_sentences[trivia_sentences['choices'] != '']\n",
    "    trivia_sentences = trivia_sentences.reset_index(drop=True)\n",
    "    trivia_sentences['difficulty'] = range(1, len(trivia_sentences) + 1)\n",
    "    return trivia_sentences\n",
    "\n",
    "def evaluate_sentence(sentence):\n",
    "    if sentence.tags[0][1] == 'RB' or len(sentence.words) < 6:\n",
    "        # This sentence starts with an adverb or is less than five words long\n",
    "        # and probably won't be a good fit\n",
    "        return None\n",
    "\n",
    "    tag_map = {word.lower(): tag for word, tag in sentence.tags}\n",
    "    \n",
    "    \n",
    "    replace_nouns = []\n",
    "    for word, tag in sentence.tags:\n",
    "        # For now, only blank out non-proper nouns that don't appear in the article title\n",
    "        if tag == 'NN':\n",
    "            # Is it in a noun phrase? If so, blank out the last two words in that phrase\n",
    "            for phrase in sentence.noun_phrases:\n",
    "                if word in phrase:\n",
    "                    # Blank out the last two words in this phrase\n",
    "                    [replace_nouns.append(phrase_word) for phrase_word in phrase.split()[-2:]]\n",
    "                    break\n",
    "\n",
    "            # If we couldn't find the word in any phrases,\n",
    "            # replace it on its own\n",
    "            if len(replace_nouns) == 0:\n",
    "                replace_nouns.append(word)\n",
    "            break\n",
    "\n",
    "    if len(replace_nouns) == 0:\n",
    "        # Return none if we found no words to replace\n",
    "        return None\n",
    "\n",
    "    trivia = {\n",
    "        'answer': ' '.join(replace_nouns)\n",
    "    }\n",
    "\n",
    "    # Blank out our replace words (only the first occurrence of the word in the sentence)\n",
    "    replace_phrase = ' '.join(replace_nouns)\n",
    "    blanks_phrase = ('__________ ' * len(replace_nouns)).strip()\n",
    "\n",
    "    expression = re.compile(re.escape(replace_phrase), re.IGNORECASE)\n",
    "    sentence = expression.sub(blanks_phrase, str(sentence), count=1)\n",
    "    trivia['question'] = sentence.replace('\\n', ' ')\n",
    "    return trivia\n",
    "\n",
    "def build_trivia(file_name):\n",
    "    with open(file_name,'r') as f:\n",
    "        raw_data = f.read()\n",
    "    clean_data = TextBlob(raw_data)\n",
    "    trivia_sentences = generate_trivia_sentences(clean_data)\n",
    "    trivia = []\n",
    "    for i in range(len(trivia_sentences)):  \n",
    "        trivia.append([trivia_sentences.iat[i,1],\n",
    "        trivia_sentences.iat[i,2],\n",
    "        trivia_sentences.iat[i,0],\n",
    "        trivia_sentences.iat[i,3]])\n",
    "    return trivia"
   ]
  },
  {
   "cell_type": "markdown",
   "metadata": {},
   "source": [
    "# Tutor"
   ]
  },
  {
   "cell_type": "code",
   "execution_count": 3,
   "metadata": {
    "collapsed": true
   },
   "outputs": [],
   "source": [
    "def getQuestion(difficulty, questions):\n",
    "    question = []\n",
    "    for q,a,d in questions:\n",
    "        if d <= difficulty+2 or d >= difficulty-2:\n",
    "            question.append([q,a,d])\n",
    "    if len(question) != 0:\n",
    "        question = random.choice(question)\n",
    "    else:\n",
    "        question = questions[0]\n",
    "    return question\n",
    "\n",
    "\"\"\"\n",
    "teacher should be moving the bar up and down \n",
    "\"\"\"\n",
    "def teacher(accurate, difficult):\n",
    "    if (accurate == True and difficult == True):\n",
    "        change = 1    \n",
    "    elif (accurate == True and difficult == False):\n",
    "        change = 0   \n",
    "    elif (accurate == False and difficult == True):\n",
    "        change = 0    \n",
    "    else:\n",
    "        change = -1 \n",
    "\n",
    "    #print( \"Accurate: %r\" % accurate, \"Difficult: %r\" % difficult)\n",
    "    #print( \"Teacher changed difficulty by {}\".format(change) )\n",
    "\n",
    "    return change\n",
    "\n",
    "def getRewardP1(accurate, difficult, sPoints, tPoints):\n",
    "    if accurate:\n",
    "        sPoints += 1\n",
    "        tPoints += 1\n",
    "    else:\n",
    "        pass\n",
    "    #print(sPoints,tPoints)\n",
    "    return(sPoints,tPoints)\n",
    "\n",
    "    \n",
    "def getRewardP2(accurate, difficult, sPoints, tPoints):\n",
    "    if accurate:\n",
    "        sPoints += 1\n",
    "        tPoints -= 1\n",
    "    else:\n",
    "        pass\n",
    "    #print(sPoints,tPoints)\n",
    "    return(sPoints,tPoints)\n",
    "    \n",
    "def getRewardP3(accurate, difficult, sPoints, tPoints):\n",
    "    if accurate:\n",
    "        sPoints += 1\n",
    "    else:\n",
    "        tPoints += 1\n",
    "    #print(sPoints,tPoints)\n",
    "    return(sPoints,tPoints)\n",
    "    \n",
    "def getRewardP4(accurate, difficult, sPoints, tPoints):\n",
    "    if accurate and difficult:\n",
    "        sPoints += 1\n",
    "        tPoints += 1\n",
    "    elif accurate and difficult != True:\n",
    "        sPoints += 1\n",
    "    elif accurate != True and difficult != True:\n",
    "        tPoints += 1\n",
    "    else:\n",
    "        pass\n",
    "    #print(sPoints,tPoints)\n",
    "    return(sPoints,tPoints)"
   ]
  },
  {
   "cell_type": "markdown",
   "metadata": {},
   "source": [
    "# Student"
   ]
  },
  {
   "cell_type": "code",
   "execution_count": 4,
   "metadata": {
    "collapsed": true
   },
   "outputs": [],
   "source": [
    "# https://stackoverflow.com/questions/423379/using-global-variables-in-a-function-other-than-the-one-that-created-them\n",
    "\n",
    "difficult = True\n",
    "accurate = True\n",
    "difficulty = 0\n",
    "sPoints = 0\n",
    "tPoints = 0\n",
    "output = []\n",
    "\n",
    "def Huh(trivia, getReward=getRewardP1):\n",
    "    \"\"\"\n",
    "    set globals\n",
    "    \"\"\"\n",
    "    global accurate\n",
    "    global difficult\n",
    "    global difficulty\n",
    "    global sPoints\n",
    "    global tPoints\n",
    "    global output\n",
    "    trial = 0\n",
    "    for each_question, each_answer, each_correct_answer, qDifficulty in trivia:\n",
    "        trial += 1\n",
    "        \"\"\"\n",
    "        play trivia\n",
    "        \"\"\"\n",
    "        print(each_question + '\\n' + ' \\n'.join(each_answer))\n",
    "        get_answer = input()\n",
    "        \n",
    "        \"\"\"\n",
    "        update difficult and accurate\n",
    "        \"\"\"\n",
    "        if qDifficulty >= difficulty:\n",
    "            difficult = True\n",
    "        else:\n",
    "            difficult = False\n",
    "            \n",
    "        if get_answer in each_correct_answer:\n",
    "            accurate = True\n",
    "            print(get_answer,'is correct!\\n')\n",
    "        else:\n",
    "            accurate = False\n",
    "            print(get_answer, 'is not the answer I had in mind!\\n')\n",
    "        \n",
    "        \"\"\"\n",
    "        update change\n",
    "        update difficulty bar\n",
    "        update ponts\n",
    "        update list of results for plotting\n",
    "        \"\"\"\n",
    "        change = teacher(accurate, difficult)\n",
    "        difficulty += change\n",
    "        sPoints, tPoints = getReward(accurate, difficult, sPoints, tPoints)\n",
    "        output.append([trial,difficulty,sPoints,tPoints])\n",
    "        output = pd.DataFrame(output, columns = ['trial', 'difficulty', 'sPoints', 'tPoints'])\n",
    "        print(\"trial:\", trial, \"\\n\",\n",
    "              \"difficulty:\", difficulty, \"\\n\",\n",
    "              \"change:\", change, \"\\n\",\n",
    "              \"sPoints:\",sPoints, \"\\n\",\n",
    "              \"tPoints:\", tPoints, \"\\n\",\n",
    "              \"accurate:\", accurate,  \"\\n\",\n",
    "              \"difficult:\", difficult)\n"
   ]
  },
  {
   "cell_type": "markdown",
   "metadata": {},
   "source": [
    "# What makes you say Huh?"
   ]
  },
  {
   "cell_type": "code",
   "execution_count": null,
   "metadata": {},
   "outputs": [],
   "source": [
    "file_name = 'katana.txt'\n",
    "trivia = build_trivia(file_name);\n"
   ]
  },
  {
   "cell_type": "code",
   "execution_count": null,
   "metadata": {},
   "outputs": [
    {
     "name": "stdout",
     "output_type": "stream",
     "text": [
      "The first __________ of \"katana\" (gatana) as a word to describe a long sword that was different from a tachi occurs as early as the Kamakura Period (1185–1333).\n",
      "tachi \n",
      "period \n",
      "'s signature \n",
      "use \n",
      "century\n"
     ]
    }
   ],
   "source": [
    "Huh(trivia)"
   ]
  },
  {
   "cell_type": "code",
   "execution_count": null,
   "metadata": {
    "collapsed": true
   },
   "outputs": [],
   "source": []
  }
 ],
 "metadata": {
  "kernelspec": {
   "display_name": "Python 3",
   "language": "python",
   "name": "python3"
  },
  "language_info": {
   "codemirror_mode": {
    "name": "ipython",
    "version": 3
   },
   "file_extension": ".py",
   "mimetype": "text/x-python",
   "name": "python",
   "nbconvert_exporter": "python",
   "pygments_lexer": "ipython3",
   "version": "3.6.1"
  }
 },
 "nbformat": 4,
 "nbformat_minor": 2
}
